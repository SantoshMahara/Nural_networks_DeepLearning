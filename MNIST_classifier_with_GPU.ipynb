{
  "nbformat": 4,
  "nbformat_minor": 0,
  "metadata": {
    "colab": {
      "provenance": [],
      "gpuType": "T4",
      "include_colab_link": true
    },
    "kernelspec": {
      "name": "python3",
      "display_name": "Python 3"
    },
    "language_info": {
      "name": "python"
    },
    "accelerator": "GPU"
  },
  "cells": [
    {
      "cell_type": "markdown",
      "metadata": {
        "id": "view-in-github",
        "colab_type": "text"
      },
      "source": [
        "<a href=\"https://colab.research.google.com/github/SantoshMahara/Nural_networks_DeepLearning/blob/main/MNIST_classifier_with_GPU.ipynb\" target=\"_parent\"><img src=\"https://colab.research.google.com/assets/colab-badge.svg\" alt=\"Open In Colab\"/></a>"
      ]
    },
    {
      "cell_type": "code",
      "source": [
        "!nvidia-smi"
      ],
      "metadata": {
        "colab": {
          "base_uri": "https://localhost:8080/"
        },
        "id": "3aUNGnz9znNA",
        "outputId": "ea004507-fb33-444d-8d9d-b06c576a2f57"
      },
      "execution_count": 1,
      "outputs": [
        {
          "output_type": "stream",
          "name": "stdout",
          "text": [
            "Thu Mar 28 03:28:03 2024       \n",
            "+---------------------------------------------------------------------------------------+\n",
            "| NVIDIA-SMI 535.104.05             Driver Version: 535.104.05   CUDA Version: 12.2     |\n",
            "|-----------------------------------------+----------------------+----------------------+\n",
            "| GPU  Name                 Persistence-M | Bus-Id        Disp.A | Volatile Uncorr. ECC |\n",
            "| Fan  Temp   Perf          Pwr:Usage/Cap |         Memory-Usage | GPU-Util  Compute M. |\n",
            "|                                         |                      |               MIG M. |\n",
            "|=========================================+======================+======================|\n",
            "|   0  Tesla T4                       Off | 00000000:00:04.0 Off |                    0 |\n",
            "| N/A   42C    P8               9W /  70W |      0MiB / 15360MiB |      0%      Default |\n",
            "|                                         |                      |                  N/A |\n",
            "+-----------------------------------------+----------------------+----------------------+\n",
            "                                                                                         \n",
            "+---------------------------------------------------------------------------------------+\n",
            "| Processes:                                                                            |\n",
            "|  GPU   GI   CI        PID   Type   Process name                            GPU Memory |\n",
            "|        ID   ID                                                             Usage      |\n",
            "|=======================================================================================|\n",
            "|  No running processes found                                                           |\n",
            "+---------------------------------------------------------------------------------------+\n"
          ]
        }
      ]
    },
    {
      "cell_type": "code",
      "execution_count": 2,
      "metadata": {
        "id": "G6YCTSQfbER9"
      },
      "outputs": [],
      "source": [
        "import torch"
      ]
    },
    {
      "cell_type": "code",
      "source": [
        "import torchvision"
      ],
      "metadata": {
        "id": "9E3Tt8IWbGh5"
      },
      "execution_count": 3,
      "outputs": []
    },
    {
      "cell_type": "markdown",
      "source": [
        "## Loading MNIST dataset from Trochvision Library"
      ],
      "metadata": {
        "id": "kvG0lfcJbtib"
      }
    },
    {
      "cell_type": "code",
      "source": [
        "from torchvision import transforms\n",
        "\n",
        "transform = transforms.Compose([\n",
        "    # you can add other transformations in this list\n",
        "    transforms.ToTensor()\n",
        "])"
      ],
      "metadata": {
        "id": "qAKrW0EAj0rV"
      },
      "execution_count": 4,
      "outputs": []
    },
    {
      "cell_type": "code",
      "source": [
        "train_dataset = torchvision.datasets.MNIST(root = \"/content/dl_class\",train=True,download=True,transform= transform)\n",
        "test_dataset = torchvision.datasets.MNIST(root = \"/content/dl_class\",train=False,download=True,transform= transform)"
      ],
      "metadata": {
        "colab": {
          "base_uri": "https://localhost:8080/"
        },
        "id": "9CRNxk6EbyfE",
        "outputId": "7f8d827b-16fd-4050-a877-6250ea97ae12"
      },
      "execution_count": 5,
      "outputs": [
        {
          "output_type": "stream",
          "name": "stdout",
          "text": [
            "Downloading http://yann.lecun.com/exdb/mnist/train-images-idx3-ubyte.gz\n",
            "Downloading http://yann.lecun.com/exdb/mnist/train-images-idx3-ubyte.gz to /content/dl_class/MNIST/raw/train-images-idx3-ubyte.gz\n"
          ]
        },
        {
          "output_type": "stream",
          "name": "stderr",
          "text": [
            "100%|██████████| 9912422/9912422 [00:00<00:00, 118408500.90it/s]\n"
          ]
        },
        {
          "output_type": "stream",
          "name": "stdout",
          "text": [
            "Extracting /content/dl_class/MNIST/raw/train-images-idx3-ubyte.gz to /content/dl_class/MNIST/raw\n",
            "\n",
            "Downloading http://yann.lecun.com/exdb/mnist/train-labels-idx1-ubyte.gz\n",
            "Downloading http://yann.lecun.com/exdb/mnist/train-labels-idx1-ubyte.gz to /content/dl_class/MNIST/raw/train-labels-idx1-ubyte.gz\n"
          ]
        },
        {
          "output_type": "stream",
          "name": "stderr",
          "text": [
            "100%|██████████| 28881/28881 [00:00<00:00, 41929973.63it/s]\n"
          ]
        },
        {
          "output_type": "stream",
          "name": "stdout",
          "text": [
            "Extracting /content/dl_class/MNIST/raw/train-labels-idx1-ubyte.gz to /content/dl_class/MNIST/raw\n",
            "\n",
            "Downloading http://yann.lecun.com/exdb/mnist/t10k-images-idx3-ubyte.gz\n",
            "Downloading http://yann.lecun.com/exdb/mnist/t10k-images-idx3-ubyte.gz to /content/dl_class/MNIST/raw/t10k-images-idx3-ubyte.gz\n"
          ]
        },
        {
          "output_type": "stream",
          "name": "stderr",
          "text": [
            "100%|██████████| 1648877/1648877 [00:00<00:00, 32423763.09it/s]\n"
          ]
        },
        {
          "output_type": "stream",
          "name": "stdout",
          "text": [
            "Extracting /content/dl_class/MNIST/raw/t10k-images-idx3-ubyte.gz to /content/dl_class/MNIST/raw\n",
            "\n",
            "Downloading http://yann.lecun.com/exdb/mnist/t10k-labels-idx1-ubyte.gz\n",
            "Downloading http://yann.lecun.com/exdb/mnist/t10k-labels-idx1-ubyte.gz to /content/dl_class/MNIST/raw/t10k-labels-idx1-ubyte.gz\n"
          ]
        },
        {
          "output_type": "stream",
          "name": "stderr",
          "text": [
            "100%|██████████| 4542/4542 [00:00<00:00, 22952444.30it/s]\n"
          ]
        },
        {
          "output_type": "stream",
          "name": "stdout",
          "text": [
            "Extracting /content/dl_class/MNIST/raw/t10k-labels-idx1-ubyte.gz to /content/dl_class/MNIST/raw\n",
            "\n"
          ]
        }
      ]
    },
    {
      "cell_type": "code",
      "source": [
        "print(f\"Total trainign data has {len(train_dataset)}\")\n",
        "print(f\"Total testing data has {len(test_dataset)}\")"
      ],
      "metadata": {
        "colab": {
          "base_uri": "https://localhost:8080/"
        },
        "id": "57R_OHBUcIBl",
        "outputId": "f9e33a54-6db1-40ba-f62d-7e3385cedec1"
      },
      "execution_count": 6,
      "outputs": [
        {
          "output_type": "stream",
          "name": "stdout",
          "text": [
            "Total trainign data has 60000\n",
            "Total testing data has 10000\n"
          ]
        }
      ]
    },
    {
      "cell_type": "code",
      "source": [
        "train_dataset[0][0].shape"
      ],
      "metadata": {
        "colab": {
          "base_uri": "https://localhost:8080/"
        },
        "id": "FE8bq3BycyuJ",
        "outputId": "861224ba-a949-4a55-8676-b1d0d927bcbc"
      },
      "execution_count": 7,
      "outputs": [
        {
          "output_type": "execute_result",
          "data": {
            "text/plain": [
              "torch.Size([1, 28, 28])"
            ]
          },
          "metadata": {},
          "execution_count": 7
        }
      ]
    },
    {
      "cell_type": "code",
      "source": [
        "import matplotlib.pyplot as plt"
      ],
      "metadata": {
        "id": "zisu3r-0eDpa"
      },
      "execution_count": 8,
      "outputs": []
    },
    {
      "cell_type": "markdown",
      "source": [
        "## Load the downloaded dataset using pytorch Dataloader\n",
        "\n",
        "Dataloader class in pytroch enable you to load the dataset in batches becuase fititng all data in the memory is not feasible."
      ],
      "metadata": {
        "id": "qUEsEpGyfaRU"
      }
    },
    {
      "cell_type": "code",
      "source": [
        "train_loader = torch.utils.data.DataLoader(dataset = train_dataset, batch_size = 32) #batch size should always be a mutliple of 2**n\n",
        "test_loader = torch.utils.data.DataLoader(dataset = test_dataset, batch_size = 32)"
      ],
      "metadata": {
        "id": "1cAAGq2-efLa"
      },
      "execution_count": 9,
      "outputs": []
    },
    {
      "cell_type": "code",
      "source": [
        "sample1 = iter(test_loader)"
      ],
      "metadata": {
        "id": "bvIXdhITg8NU"
      },
      "execution_count": 10,
      "outputs": []
    },
    {
      "cell_type": "code",
      "source": [
        "image, target_val = next(sample1)\n",
        "for i in range(6):\n",
        "  plt.subplot(2,3,i+1)\n",
        "  plt.imshow(image[i][0])\n",
        "plt.show()"
      ],
      "metadata": {
        "colab": {
          "base_uri": "https://localhost:8080/",
          "height": 411
        },
        "id": "28_jVpHphr2Y",
        "outputId": "d9608843-27c1-4b87-f1df-5281e1a0eca8"
      },
      "execution_count": 11,
      "outputs": [
        {
          "output_type": "display_data",
          "data": {
            "text/plain": [
              "<Figure size 640x480 with 6 Axes>"
            ],
            "image/png": "[encoded data removed]"
          },
          "metadata": {}
        }
      ]
    },
    {
      "cell_type": "markdown",
      "source": [
        "#Building Neural Network"
      ],
      "metadata": {
        "id": "N_fsG3S6lI2Y"
      }
    },
    {
      "cell_type": "code",
      "source": [
        "import torch.nn as nn"
      ],
      "metadata": {
        "id": "Uo2ydiCriZnP"
      },
      "execution_count": 12,
      "outputs": []
    },
    {
      "cell_type": "markdown",
      "source": [
        "Home work: try to add the more layers to the model and obsreve the accuracy"
      ],
      "metadata": {
        "id": "gu26H27i7E4R"
      }
    },
    {
      "cell_type": "code",
      "source": [
        "class CustomNeuralNetwork(nn.Module):\n",
        "\n",
        "  def __init__(self):\n",
        "    super(CustomNeuralNetwork,self).__init__()\n",
        "\n",
        "    self.layer1 = nn.Linear(784, 500)\n",
        "    self.sigmoid = nn.Sigmoid()\n",
        "    self.layer2 = nn.Linear(500, 10)\n",
        "\n",
        "  def forward(self, x):\n",
        "    out1 = self.layer1(x)\n",
        "    out2 = self.sigmoid(out1)\n",
        "    out3 = self.layer2(out2) # the output layer never to be activated\n",
        "    return out3"
      ],
      "metadata": {
        "id": "Mv2-kKoWlWuy"
      },
      "execution_count": 13,
      "outputs": []
    },
    {
      "cell_type": "code",
      "source": [
        "model = CustomNeuralNetwork()"
      ],
      "metadata": {
        "id": "j4IekQFErIx3"
      },
      "execution_count": 14,
      "outputs": []
    },
    {
      "cell_type": "code",
      "source": [
        "device = torch.device('cuda' if torch.cuda.is_available() else 'cpu')"
      ],
      "metadata": {
        "id": "eVqPUjk_0Bry"
      },
      "execution_count": 15,
      "outputs": []
    },
    {
      "cell_type": "code",
      "source": [
        "print(device)"
      ],
      "metadata": {
        "id": "I-AexnlA0hQ6",
        "outputId": "6c903810-3f42-4843-efc1-e2213a1d72ab",
        "colab": {
          "base_uri": "https://localhost:8080/"
        }
      },
      "execution_count": 16,
      "outputs": [
        {
          "output_type": "stream",
          "name": "stdout",
          "text": [
            "cuda\n"
          ]
        }
      ]
    },
    {
      "cell_type": "code",
      "source": [
        "model = model.to(device)"
      ],
      "metadata": {
        "id": "SJuI9LKZ0um5"
      },
      "execution_count": 17,
      "outputs": []
    },
    {
      "cell_type": "code",
      "source": [
        "print(model)"
      ],
      "metadata": {
        "colab": {
          "base_uri": "https://localhost:8080/"
        },
        "id": "Ogr1k7xLrpuz",
        "outputId": "dfff14b0-5ba0-4c99-ce01-4c2a1be3d692"
      },
      "execution_count": 18,
      "outputs": [
        {
          "output_type": "stream",
          "name": "stdout",
          "text": [
            "CustomNeuralNetwork(\n",
            "  (layer1): Linear(in_features=784, out_features=500, bias=True)\n",
            "  (sigmoid): Sigmoid()\n",
            "  (layer2): Linear(in_features=500, out_features=10, bias=True)\n",
            ")\n"
          ]
        }
      ]
    },
    {
      "cell_type": "code",
      "source": [
        "criterion = nn.CrossEntropyLoss() #define our loss function here\n",
        "optimizier = torch.optim.SGD(model.parameters(),lr = 0.005) # define our Gradient Descent for optimising the loss function"
      ],
      "metadata": {
        "id": "5FDjG2c8rq-y"
      },
      "execution_count": 19,
      "outputs": []
    },
    {
      "cell_type": "markdown",
      "source": [
        "# Training Loop\n",
        "\n",
        "Homework : chnage the epoch to 20, 40, 50 and observe the accuarcy"
      ],
      "metadata": {
        "id": "LOiobNqmt2l2"
      }
    },
    {
      "cell_type": "code",
      "source": [
        "import time\n",
        "start_time = time.time()\n",
        "\n",
        "for epoch in range(10):\n",
        "  total_loss = 0\n",
        "  for (images,labels) in train_loader:\n",
        "    images = images.reshape(-1,28*28) #this will flatte the 2-D image into 784 pixel long features\n",
        "    images =  images.to(device)\n",
        "    labels = labels.to(device)\n",
        "    predicted_label = model(images)\n",
        "    loss = criterion(predicted_label,labels)\n",
        "    optimizier.zero_grad()\n",
        "    loss.backward() # this will compute all diffrentiation w.r.t weights and bias\n",
        "    optimizier.step() # update the weights by the gradient calucalted in above step\n",
        "    total_loss = total_loss + loss\n",
        "  print(f\"The model loss as epoch {epoch} is {total_loss}\")\n",
        "\n",
        "end_time = time.time()\n",
        "print(f\"total time for training the model is {end_time-start_time}\")"
      ],
      "metadata": {
        "colab": {
          "base_uri": "https://localhost:8080/"
        },
        "id": "haxcELGHt12a",
        "outputId": "ffdbee6d-d519-4586-88a5-651e4088b420"
      },
      "execution_count": 20,
      "outputs": [
        {
          "output_type": "stream",
          "name": "stdout",
          "text": [
            "The model loss as epoch 0 is 3941.809326171875\n",
            "The model loss as epoch 1 is 2759.789794921875\n",
            "The model loss as epoch 2 is 1807.211181640625\n",
            "The model loss as epoch 3 is 1361.1510009765625\n",
            "The model loss as epoch 4 is 1135.803466796875\n",
            "The model loss as epoch 5 is 1003.036376953125\n",
            "The model loss as epoch 6 is 915.8408203125\n",
            "The model loss as epoch 7 is 854.4037475585938\n",
            "The model loss as epoch 8 is 808.9286499023438\n",
            "The model loss as epoch 9 is 773.9618530273438\n",
            "total time for training the model is 100.73737454414368\n"
          ]
        }
      ]
    },
    {
      "cell_type": "markdown",
      "source": [
        "# model Evaluation"
      ],
      "metadata": {
        "id": "orzlLZn71CAi"
      }
    },
    {
      "cell_type": "code",
      "source": [
        "model.eval() # this set the model into evaluations"
      ],
      "metadata": {
        "colab": {
          "base_uri": "https://localhost:8080/"
        },
        "id": "_QoFHIOU1BRm",
        "outputId": "fc3fb89a-d11a-4930-822a-9e082785549b"
      },
      "execution_count": 21,
      "outputs": [
        {
          "output_type": "execute_result",
          "data": {
            "text/plain": [
              "CustomNeuralNetwork(\n",
              "  (layer1): Linear(in_features=784, out_features=500, bias=True)\n",
              "  (sigmoid): Sigmoid()\n",
              "  (layer2): Linear(in_features=500, out_features=10, bias=True)\n",
              ")"
            ]
          },
          "metadata": {},
          "execution_count": 21
        }
      ]
    },
    {
      "cell_type": "code",
      "source": [
        "import numpy as np\n",
        "avg_acc=[]\n",
        "with torch.no_grad():\n",
        "  for (images, labels) in test_loader:\n",
        "    total_correct = 0\n",
        "    n_sample = 0\n",
        "    images = images.reshape(-1,28*28)\n",
        "    images = images.to(device)\n",
        "    labels = labels.to(device)\n",
        "    model_out = model(images)\n",
        "    pred_out = torch.argmax(model_out,dim=1)\n",
        "    n_sample = labels.size(0)\n",
        "    total_correct = total_correct + (pred_out==labels).sum().item()\n",
        "    accuracy = total_correct/n_sample*100\n",
        "    # print(\"Batch Accuracy: \",accuracy)\n",
        "    avg_acc.append(accuracy)\n",
        "    # print(pred_out.shape)\n",
        "    # print(labels.shape)\n",
        "print(f\"the model accuarcy is {np.array(avg_acc).mean()}\")"
      ],
      "metadata": {
        "colab": {
          "base_uri": "https://localhost:8080/"
        },
        "id": "9iexNcJTtgeo",
        "outputId": "ed17da77-0cd4-470e-9761-924a2b6e07d1"
      },
      "execution_count": 22,
      "outputs": [
        {
          "output_type": "stream",
          "name": "stdout",
          "text": [
            "the model accuarcy is 89.38698083067092\n"
          ]
        }
      ]
    },
    {
      "cell_type": "code",
      "source": [
        "!nvidia-smi"
      ],
      "metadata": {
        "id": "gfKu9PAx5Kso",
        "outputId": "d41d1e11-d97e-4c90-ee31-548594172a64",
        "colab": {
          "base_uri": "https://localhost:8080/"
        }
      },
      "execution_count": 23,
      "outputs": [
        {
          "output_type": "stream",
          "name": "stdout",
          "text": [
            "Thu Mar 28 03:29:55 2024       \n",
            "+---------------------------------------------------------------------------------------+\n",
            "| NVIDIA-SMI 535.104.05             Driver Version: 535.104.05   CUDA Version: 12.2     |\n",
            "|-----------------------------------------+----------------------+----------------------+\n",
            "| GPU  Name                 Persistence-M | Bus-Id        Disp.A | Volatile Uncorr. ECC |\n",
            "| Fan  Temp   Perf          Pwr:Usage/Cap |         Memory-Usage | GPU-Util  Compute M. |\n",
            "|                                         |                      |               MIG M. |\n",
            "|=========================================+======================+======================|\n",
            "|   0  Tesla T4                       Off | 00000000:00:04.0 Off |                    0 |\n",
            "| N/A   51C    P0              28W /  70W |    159MiB / 15360MiB |      3%      Default |\n",
            "|                                         |                      |                  N/A |\n",
            "+-----------------------------------------+----------------------+----------------------+\n",
            "                                                                                         \n",
            "+---------------------------------------------------------------------------------------+\n",
            "| Processes:                                                                            |\n",
            "|  GPU   GI   CI        PID   Type   Process name                            GPU Memory |\n",
            "|        ID   ID                                                             Usage      |\n",
            "|=======================================================================================|\n",
            "+---------------------------------------------------------------------------------------+\n"
          ]
        }
      ]
    },
    {
      "cell_type": "markdown",
      "source": [
        "# Predicting unknow MNIST image"
      ],
      "metadata": {
        "id": "2hxlldQh5xZ3"
      }
    },
    {
      "cell_type": "code",
      "source": [
        "predicted_image = torch.argmax(model(test_dataset[20][0].reshape(-1,28*28).to(device)))"
      ],
      "metadata": {
        "id": "f-Mu_KJ34tC4"
      },
      "execution_count": 24,
      "outputs": []
    },
    {
      "cell_type": "code",
      "source": [
        "actual_image_label = test_dataset[20][1]"
      ],
      "metadata": {
        "id": "XR_s20bx43JI"
      },
      "execution_count": 25,
      "outputs": []
    },
    {
      "cell_type": "code",
      "source": [
        "actual_image_label"
      ],
      "metadata": {
        "id": "CBQuiDR35H68",
        "colab": {
          "base_uri": "https://localhost:8080/"
        },
        "outputId": "934e156f-070b-4bdf-dd3e-2343fe752a91"
      },
      "execution_count": 26,
      "outputs": [
        {
          "output_type": "execute_result",
          "data": {
            "text/plain": [
              "9"
            ]
          },
          "metadata": {},
          "execution_count": 26
        }
      ]
    },
    {
      "cell_type": "code",
      "source": [
        "import numpy as np"
      ],
      "metadata": {
        "id": "WS49xhyP7OJ7"
      },
      "execution_count": 27,
      "outputs": []
    },
    {
      "cell_type": "code",
      "source": [
        "a = np.array([20,1,20,3,5,80,29])"
      ],
      "metadata": {
        "id": "PTC3iB4Y7zcp"
      },
      "execution_count": 28,
      "outputs": []
    },
    {
      "cell_type": "code",
      "source": [
        "np.max(a)"
      ],
      "metadata": {
        "id": "H6ZrA6rs749b",
        "outputId": "4f6dfec6-d3e4-4ab7-bb50-609e879f7734",
        "colab": {
          "base_uri": "https://localhost:8080/"
        }
      },
      "execution_count": 29,
      "outputs": [
        {
          "output_type": "execute_result",
          "data": {
            "text/plain": [
              "80"
            ]
          },
          "metadata": {},
          "execution_count": 29
        }
      ]
    },
    {
      "cell_type": "code",
      "source": [
        "np.argmax(a)"
      ],
      "metadata": {
        "id": "Kt_9Y-aF7699",
        "outputId": "630e314e-bc7f-49e4-d649-5a05a1dadb2f",
        "colab": {
          "base_uri": "https://localhost:8080/"
        }
      },
      "execution_count": 30,
      "outputs": [
        {
          "output_type": "execute_result",
          "data": {
            "text/plain": [
              "5"
            ]
          },
          "metadata": {},
          "execution_count": 30
        }
      ]
    },
    {
      "cell_type": "code",
      "source": [],
      "metadata": {
        "id": "Rpelo8hj7-dE"
      },
      "execution_count": 30,
      "outputs": []
    }
  ]
}